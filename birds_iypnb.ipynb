{
  "nbformat": 4,
  "nbformat_minor": 0,
  "metadata": {
    "colab": {
      "name": "birds.iypnb",
      "provenance": [],
      "collapsed_sections": []
    },
    "kernelspec": {
      "name": "python3",
      "display_name": "Python 3"
    },
    "language_info": {
      "name": "python"
    }
  },
  "cells": [
    {
      "cell_type": "code",
      "execution_count": null,
      "metadata": {
        "id": "-b-5jNfedtUb"
      },
      "outputs": [],
      "source": [
        "import numpy as np\n",
        "import pandas as pd\n",
        "from matplotlib import pyplot as plt\n",
        "import seaborn as sns\n",
        "import tensorflow as tf\n",
        "from tensorflow import keras"
      ]
    },
    {
      "cell_type": "code",
      "source": [
        "!git clone https://github.com/dduygaucho/classifying-birds.git"
      ],
      "metadata": {
        "id": "_SzMKX2wd_RN",
        "colab": {
          "base_uri": "https://localhost:8080/"
        },
        "outputId": "985889f1-39c7-4a1f-d6c6-1f1aa22eec9e"
      },
      "execution_count": null,
      "outputs": [
        {
          "output_type": "stream",
          "name": "stdout",
          "text": [
            "Cloning into 'classifying-birds'...\n",
            "remote: Enumerating objects: 51536, done.\u001b[K\n",
            "remote: Counting objects: 100% (3877/3877), done.\u001b[K\n",
            "remote: Compressing objects: 100% (3872/3872), done.\u001b[K\n",
            "remote: Total 51536 (delta 4), reused 3877 (delta 4), pack-reused 47659\u001b[K\n",
            "Receiving objects: 100% (51536/51536), 1.04 GiB | 13.89 MiB/s, done.\n",
            "Resolving deltas: 100% (5/5), done.\n",
            "Checking out files: 100% (50593/50593), done.\n"
          ]
        }
      ]
    },
    {
      "cell_type": "code",
      "source": [
        "from keras.preprocessing.image import ImageDataGenerator\n"
      ],
      "metadata": {
        "id": "GL0tCo4T20pB"
      },
      "execution_count": null,
      "outputs": []
    },
    {
      "cell_type": "markdown",
      "source": [
        "#Xception"
      ],
      "metadata": {
        "id": "87nbua7FSKAq"
      }
    },
    {
      "cell_type": "code",
      "source": [
        "from keras.applications.xception import preprocess_input\n",
        "# Creating generator for the training set\n",
        "train_gen = ImageDataGenerator(\n",
        "    preprocessing_function= preprocess_input,\n",
        "    shear_range = 0.1,\n",
        "    zoom_range = 0.1,\n",
        "    horizontal_flip= True\n",
        ")\n",
        "\n",
        "train_datagenerator = train_gen.flow_from_directory(\n",
        "    '/content/classifying-birds/train',\n",
        "    target_size= (224,224),\n",
        "    color_mode = 'rgb',\n",
        "    class_mode = 'categorical',\n",
        "    batch_size = 64, \n",
        "    shuffle = True\n",
        ")\n",
        "\n",
        "\n",
        "val_gen = ImageDataGenerator(\n",
        "    preprocessing_function= preprocess_input,\n",
        "    # shear_range = 0.1,\n",
        "    # zoom_range = 0.1,\n",
        "    # horizontal_flip= True\n",
        ")\n",
        "\n",
        "val_datagenerator = val_gen.flow_from_directory(\n",
        "    '/content/classifying-birds/valid',\n",
        "    target_size= (224,224),\n",
        "    color_mode = 'rgb',\n",
        "    class_mode = 'categorical',\n",
        "    batch_size = 32, \n",
        "    shuffle = True\n",
        ")\n",
        "\n",
        "\n",
        "\n",
        "test_gen = ImageDataGenerator(\n",
        "    preprocessing_function = preprocess_input\n",
        "    \n",
        ")\n",
        "\n",
        "test_datagenerator = test_gen.flow_from_directory(\n",
        "    '/content/classifying-birds/test',\n",
        "    target_size= (224,224),\n",
        "    color_mode = 'rgb',\n",
        "    class_mode = 'categorical',\n",
        "    batch_size = 32, \n",
        "    shuffle = False\n",
        ")\n",
        "\n"
      ],
      "metadata": {
        "colab": {
          "base_uri": "https://localhost:8080/"
        },
        "id": "beG6tvr4SMyh",
        "outputId": "fdab7330-dba1-4bf3-bb04-73544952949e"
      },
      "execution_count": null,
      "outputs": [
        {
          "output_type": "stream",
          "name": "stdout",
          "text": [
            "Found 47332 images belonging to 325 classes.\n",
            "Found 1625 images belonging to 325 classes.\n",
            "Found 1625 images belonging to 325 classes.\n"
          ]
        }
      ]
    },
    {
      "cell_type": "markdown",
      "source": [
        "##Build and train model"
      ],
      "metadata": {
        "id": "8FjLb0lcSwme"
      }
    },
    {
      "cell_type": "code",
      "source": [
        "base_model = keras.applications.Xception(\n",
        "    include_top = False,\n",
        "    weights = 'imagenet',\n",
        "    input_shape = (224,224,3) # the input of the model is 224x224x3 (rgb)\n",
        ")\n",
        "# freeze all the params\n",
        "base_model.trainable = False"
      ],
      "metadata": {
        "id": "tFgzc5fLS0aj",
        "colab": {
          "base_uri": "https://localhost:8080/"
        },
        "outputId": "03c4c0cf-0b9d-4952-dcea-30a928800ac5"
      },
      "execution_count": null,
      "outputs": [
        {
          "output_type": "stream",
          "name": "stdout",
          "text": [
            "Downloading data from https://storage.googleapis.com/tensorflow/keras-applications/xception/xception_weights_tf_dim_ordering_tf_kernels_notop.h5\n",
            "83689472/83683744 [==============================] - 1s 0us/step\n",
            "83697664/83683744 [==============================] - 1s 0us/step\n"
          ]
        }
      ]
    },
    {
      "cell_type": "code",
      "source": [
        "model = keras.models.Sequential([\n",
        "    base_model,\n",
        "    keras.layers.Flatten(),\n",
        "    keras.layers.Dense(1028, activation = 'selu', kernel_initializer= 'lecun_normal'),\n",
        "    keras.layers.BatchNormalization(), \n",
        "    keras.layers.Dropout(0.75),\n",
        "    keras.layers.Dense(512, activation = 'selu', kernel_initializer= 'lecun_normal'),\n",
        "    keras.layers.BatchNormalization(), \n",
        "    keras.layers.Dropout(0.5),\n",
        "    keras.layers.Dense(325, activation = 'softmax', kernel_initializer= 'glorot_normal')\n",
        "])"
      ],
      "metadata": {
        "id": "w1waJe6FS-tO"
      },
      "execution_count": null,
      "outputs": []
    },
    {
      "cell_type": "code",
      "source": [
        "checkpoint_cb = keras.callbacks.ModelCheckpoint('keras_xception_model.h5')\n",
        "early_stopping_cb = keras.callbacks.EarlyStopping(patience = 6, restore_best_weights= True)\n",
        "\n",
        "model.compile(optimizer = tf.keras.optimizers.Nadam(learning_rate=0.01, beta_1=0.9, beta_2=0.999, epsilon=1e-07), loss = 'categorical_crossentropy', metrics = ['accuracy']) # y_train already utils.to_categorical no need to use sparse (below)\n",
        "history = model.fit(train_datagenerator, batch_size = 32, epochs = 22, validation_data = val_datagenerator, workers = 10, use_multiprocessing = True,\n",
        "                    callbacks = [early_stopping_cb, checkpoint_cb])"
      ],
      "metadata": {
        "colab": {
          "base_uri": "https://localhost:8080/",
          "height": 3021
        },
        "id": "j1Qcg7TvTD-5",
        "outputId": "761f1503-54ee-48a6-97ad-62c9860be391"
      },
      "execution_count": null,
      "outputs": [
        {
          "output_type": "stream",
          "name": "stdout",
          "text": [
            "Epoch 1/22\n",
            "740/740 [==============================] - ETA: 0s - loss: 2.5805 - accuracy: 0.3963"
          ]
        },
        {
          "output_type": "stream",
          "name": "stderr",
          "text": [
            "/usr/local/lib/python3.7/dist-packages/keras/engine/functional.py:1410: CustomMaskWarning: Custom mask layers require a config and must override get_config. When loading, the custom mask layer must be passed to the custom_objects argument.\n",
            "  layer_config = serialize_layer_fn(layer)\n"
          ]
        },
        {
          "output_type": "stream",
          "name": "stdout",
          "text": [
            "\b\b\b\b\b\b\b\b\b\b\b\b\b\b\b\b\b\b\b\b\b\b\b\b\b\b\b\b\b\b\b\b\b\b\b\b\b\b\b\b\b\b\b\b\b\b\b\b\b\b\b\b\b\b\b\b\b\b\b\b\b\b\b\b\b\b\b\b\b\b\b\b\b\b\b\b\b\b\b\b\b\b\b\b\r740/740 [==============================] - 669s 882ms/step - loss: 2.5805 - accuracy: 0.3963 - val_loss: 0.7469 - val_accuracy: 0.7754\n",
            "Epoch 2/22\n",
            "153/740 [=====>........................] - ETA: 7:58 - loss: 1.5978 - accuracy: 0.5660"
          ]
        },
        {
          "output_type": "stream",
          "name": "stderr",
          "text": [
            "Process Keras_worker_ForkPoolWorker-50:\n",
            "Traceback (most recent call last):\n",
            "Process Keras_worker_ForkPoolWorker-42:\n",
            "Process Keras_worker_ForkPoolWorker-49:\n",
            "Process Keras_worker_ForkPoolWorker-44:\n",
            "Process Keras_worker_ForkPoolWorker-43:\n",
            "Process Keras_worker_ForkPoolWorker-46:\n",
            "  File \"/usr/lib/python3.7/multiprocessing/process.py\", line 297, in _bootstrap\n",
            "    self.run()\n",
            "Process Keras_worker_ForkPoolWorker-47:\n",
            "Process Keras_worker_ForkPoolWorker-48:\n",
            "Process Keras_worker_ForkPoolWorker-45:\n",
            "Traceback (most recent call last):\n",
            "Traceback (most recent call last):\n",
            "Traceback (most recent call last):\n",
            "Traceback (most recent call last):\n",
            "  File \"/usr/lib/python3.7/multiprocessing/process.py\", line 99, in run\n",
            "    self._target(*self._args, **self._kwargs)\n",
            "Traceback (most recent call last):\n",
            "  File \"/usr/lib/python3.7/multiprocessing/process.py\", line 297, in _bootstrap\n",
            "    self.run()\n",
            "Traceback (most recent call last):\n",
            "  File \"/usr/lib/python3.7/multiprocessing/process.py\", line 297, in _bootstrap\n",
            "    self.run()\n",
            "  File \"/usr/lib/python3.7/multiprocessing/process.py\", line 297, in _bootstrap\n",
            "    self.run()\n",
            "Traceback (most recent call last):\n",
            "  File \"/usr/lib/python3.7/multiprocessing/process.py\", line 297, in _bootstrap\n",
            "    self.run()\n",
            "  File \"/usr/lib/python3.7/multiprocessing/process.py\", line 297, in _bootstrap\n",
            "    self.run()\n",
            "  File \"/usr/lib/python3.7/multiprocessing/process.py\", line 99, in run\n",
            "    self._target(*self._args, **self._kwargs)\n",
            "  File \"/usr/lib/python3.7/multiprocessing/pool.py\", line 121, in worker\n",
            "    result = (True, func(*args, **kwds))\n",
            "  File \"/usr/lib/python3.7/multiprocessing/process.py\", line 99, in run\n",
            "    self._target(*self._args, **self._kwargs)\n",
            "  File \"/usr/lib/python3.7/multiprocessing/pool.py\", line 127, in worker\n",
            "    put((job, i, result))\n",
            "  File \"/usr/lib/python3.7/multiprocessing/process.py\", line 297, in _bootstrap\n",
            "    self.run()\n",
            "Traceback (most recent call last):\n",
            "  File \"/usr/lib/python3.7/multiprocessing/process.py\", line 297, in _bootstrap\n",
            "    self.run()\n",
            "  File \"/usr/lib/python3.7/multiprocessing/process.py\", line 99, in run\n",
            "    self._target(*self._args, **self._kwargs)\n",
            "  File \"/usr/lib/python3.7/multiprocessing/process.py\", line 99, in run\n",
            "    self._target(*self._args, **self._kwargs)\n",
            "  File \"/usr/lib/python3.7/multiprocessing/process.py\", line 99, in run\n",
            "    self._target(*self._args, **self._kwargs)\n",
            "  File \"/usr/lib/python3.7/multiprocessing/pool.py\", line 121, in worker\n",
            "    result = (True, func(*args, **kwds))\n",
            "  File \"/usr/lib/python3.7/multiprocessing/pool.py\", line 121, in worker\n",
            "    result = (True, func(*args, **kwds))\n",
            "  File \"/usr/lib/python3.7/multiprocessing/process.py\", line 99, in run\n",
            "    self._target(*self._args, **self._kwargs)\n",
            "  File \"/usr/lib/python3.7/multiprocessing/process.py\", line 99, in run\n",
            "    self._target(*self._args, **self._kwargs)\n",
            "  File \"/usr/local/lib/python3.7/dist-packages/keras/utils/data_utils.py\", line 565, in get_index\n",
            "    return _SHARED_SEQUENCES[uid][i]\n",
            "  File \"/usr/lib/python3.7/multiprocessing/process.py\", line 297, in _bootstrap\n",
            "    self.run()\n",
            "  File \"/usr/lib/python3.7/multiprocessing/queues.py\", line 364, in put\n",
            "    self._writer.send_bytes(obj)\n",
            "  File \"/usr/lib/python3.7/multiprocessing/pool.py\", line 121, in worker\n",
            "    result = (True, func(*args, **kwds))\n",
            "  File \"/usr/lib/python3.7/multiprocessing/pool.py\", line 121, in worker\n",
            "    result = (True, func(*args, **kwds))\n",
            "  File \"/usr/local/lib/python3.7/dist-packages/keras/utils/data_utils.py\", line 565, in get_index\n",
            "    return _SHARED_SEQUENCES[uid][i]\n",
            "  File \"/usr/lib/python3.7/multiprocessing/pool.py\", line 121, in worker\n",
            "    result = (True, func(*args, **kwds))\n",
            "  File \"/usr/lib/python3.7/multiprocessing/pool.py\", line 121, in worker\n",
            "    result = (True, func(*args, **kwds))\n",
            "  File \"/usr/local/lib/python3.7/dist-packages/keras/utils/data_utils.py\", line 565, in get_index\n",
            "    return _SHARED_SEQUENCES[uid][i]\n",
            "  File \"/usr/local/lib/python3.7/dist-packages/keras/utils/data_utils.py\", line 565, in get_index\n",
            "    return _SHARED_SEQUENCES[uid][i]\n",
            "  File \"/usr/local/lib/python3.7/dist-packages/keras_preprocessing/image/iterator.py\", line 65, in __getitem__\n",
            "    return self._get_batches_of_transformed_samples(index_array)\n",
            "  File \"/usr/lib/python3.7/multiprocessing/connection.py\", line 200, in send_bytes\n",
            "    self._send_bytes(m[offset:offset + size])\n",
            "  File \"/usr/lib/python3.7/multiprocessing/process.py\", line 99, in run\n",
            "    self._target(*self._args, **self._kwargs)\n",
            "  File \"/usr/local/lib/python3.7/dist-packages/keras_preprocessing/image/iterator.py\", line 65, in __getitem__\n",
            "    return self._get_batches_of_transformed_samples(index_array)\n",
            "  File \"/usr/local/lib/python3.7/dist-packages/keras/utils/data_utils.py\", line 565, in get_index\n",
            "    return _SHARED_SEQUENCES[uid][i]\n",
            "  File \"/usr/lib/python3.7/multiprocessing/pool.py\", line 121, in worker\n",
            "    result = (True, func(*args, **kwds))\n",
            "  File \"/usr/local/lib/python3.7/dist-packages/keras_preprocessing/image/iterator.py\", line 238, in _get_batches_of_transformed_samples\n",
            "    x = self.image_data_generator.apply_transform(x, params)\n",
            "  File \"/usr/lib/python3.7/multiprocessing/connection.py\", line 398, in _send_bytes\n",
            "    self._send(buf)\n",
            "  File \"/usr/local/lib/python3.7/dist-packages/keras/utils/data_utils.py\", line 565, in get_index\n",
            "    return _SHARED_SEQUENCES[uid][i]\n",
            "  File \"/usr/local/lib/python3.7/dist-packages/keras/utils/data_utils.py\", line 565, in get_index\n",
            "    return _SHARED_SEQUENCES[uid][i]\n",
            "  File \"/usr/local/lib/python3.7/dist-packages/keras_preprocessing/image/iterator.py\", line 238, in _get_batches_of_transformed_samples\n",
            "    x = self.image_data_generator.apply_transform(x, params)\n",
            "  File \"/usr/local/lib/python3.7/dist-packages/keras_preprocessing/image/iterator.py\", line 65, in __getitem__\n",
            "    return self._get_batches_of_transformed_samples(index_array)\n",
            "  File \"/usr/local/lib/python3.7/dist-packages/keras_preprocessing/image/iterator.py\", line 65, in __getitem__\n",
            "    return self._get_batches_of_transformed_samples(index_array)\n",
            "  File \"/usr/local/lib/python3.7/dist-packages/keras/utils/data_utils.py\", line 565, in get_index\n",
            "    return _SHARED_SEQUENCES[uid][i]\n",
            "  File \"/usr/local/lib/python3.7/dist-packages/keras_preprocessing/image/iterator.py\", line 65, in __getitem__\n",
            "    return self._get_batches_of_transformed_samples(index_array)\n",
            "  File \"/usr/local/lib/python3.7/dist-packages/keras_preprocessing/image/iterator.py\", line 65, in __getitem__\n",
            "    return self._get_batches_of_transformed_samples(index_array)\n",
            "  File \"/usr/local/lib/python3.7/dist-packages/keras_preprocessing/image/iterator.py\", line 238, in _get_batches_of_transformed_samples\n",
            "    x = self.image_data_generator.apply_transform(x, params)\n",
            "  File \"/usr/lib/python3.7/multiprocessing/connection.py\", line 368, in _send\n",
            "    n = write(self._handle, buf)\n",
            "  File \"/usr/local/lib/python3.7/dist-packages/keras_preprocessing/image/iterator.py\", line 65, in __getitem__\n",
            "    return self._get_batches_of_transformed_samples(index_array)\n",
            "  File \"/usr/local/lib/python3.7/dist-packages/keras_preprocessing/image/image_data_generator.py\", line 874, in apply_transform\n",
            "    order=self.interpolation_order)\n",
            "  File \"/usr/local/lib/python3.7/dist-packages/keras_preprocessing/image/image_data_generator.py\", line 874, in apply_transform\n",
            "    order=self.interpolation_order)\n",
            "  File \"/usr/local/lib/python3.7/dist-packages/keras_preprocessing/image/iterator.py\", line 238, in _get_batches_of_transformed_samples\n",
            "    x = self.image_data_generator.apply_transform(x, params)\n",
            "  File \"/usr/local/lib/python3.7/dist-packages/keras_preprocessing/image/iterator.py\", line 238, in _get_batches_of_transformed_samples\n",
            "    x = self.image_data_generator.apply_transform(x, params)\n",
            "  File \"/usr/local/lib/python3.7/dist-packages/keras_preprocessing/image/iterator.py\", line 65, in __getitem__\n",
            "    return self._get_batches_of_transformed_samples(index_array)\n",
            "  File \"/usr/local/lib/python3.7/dist-packages/keras_preprocessing/image/image_data_generator.py\", line 874, in apply_transform\n",
            "    order=self.interpolation_order)\n",
            "  File \"/usr/local/lib/python3.7/dist-packages/keras_preprocessing/image/iterator.py\", line 238, in _get_batches_of_transformed_samples\n",
            "    x = self.image_data_generator.apply_transform(x, params)\n",
            "  File \"/usr/lib/python3.7/multiprocessing/connection.py\", line 379, in _recv\n",
            "    chunk = read(handle, remaining)\n",
            "  File \"/usr/lib/python3.7/multiprocessing/connection.py\", line 407, in _recv_bytes\n",
            "    buf = self._recv(4)\n",
            "Process Keras_worker_ForkPoolWorker-41:\n",
            "Traceback (most recent call last):\n",
            "  File \"/usr/lib/python3.7/multiprocessing/process.py\", line 297, in _bootstrap\n",
            "    self.run()\n",
            "  File \"/usr/lib/python3.7/multiprocessing/process.py\", line 99, in run\n",
            "    self._target(*self._args, **self._kwargs)\n",
            "  File \"/usr/lib/python3.7/multiprocessing/pool.py\", line 110, in worker\n",
            "    task = get()\n",
            "  File \"/usr/lib/python3.7/multiprocessing/queues.py\", line 352, in get\n",
            "    res = self._reader.recv_bytes()\n",
            "  File \"/usr/lib/python3.7/multiprocessing/connection.py\", line 216, in recv_bytes\n",
            "    buf = self._recv_bytes(maxlength)\n",
            "KeyboardInterrupt\n"
          ]
        },
        {
          "output_type": "error",
          "ename": "KeyboardInterrupt",
          "evalue": "ignored",
          "traceback": [
            "\u001b[0;31m---------------------------------------------------------------------------\u001b[0m",
            "\u001b[0;31mKeyboardInterrupt\u001b[0m                         Traceback (most recent call last)",
            "\u001b[0;32m<ipython-input-7-607b3646f4fc>\u001b[0m in \u001b[0;36m<module>\u001b[0;34m()\u001b[0m\n\u001b[1;32m      4\u001b[0m \u001b[0mmodel\u001b[0m\u001b[0;34m.\u001b[0m\u001b[0mcompile\u001b[0m\u001b[0;34m(\u001b[0m\u001b[0moptimizer\u001b[0m \u001b[0;34m=\u001b[0m \u001b[0mtf\u001b[0m\u001b[0;34m.\u001b[0m\u001b[0mkeras\u001b[0m\u001b[0;34m.\u001b[0m\u001b[0moptimizers\u001b[0m\u001b[0;34m.\u001b[0m\u001b[0mNadam\u001b[0m\u001b[0;34m(\u001b[0m\u001b[0mlearning_rate\u001b[0m\u001b[0;34m=\u001b[0m\u001b[0;36m0.01\u001b[0m\u001b[0;34m,\u001b[0m \u001b[0mbeta_1\u001b[0m\u001b[0;34m=\u001b[0m\u001b[0;36m0.9\u001b[0m\u001b[0;34m,\u001b[0m \u001b[0mbeta_2\u001b[0m\u001b[0;34m=\u001b[0m\u001b[0;36m0.999\u001b[0m\u001b[0;34m,\u001b[0m \u001b[0mepsilon\u001b[0m\u001b[0;34m=\u001b[0m\u001b[0;36m1e-07\u001b[0m\u001b[0;34m)\u001b[0m\u001b[0;34m,\u001b[0m \u001b[0mloss\u001b[0m \u001b[0;34m=\u001b[0m \u001b[0;34m'categorical_crossentropy'\u001b[0m\u001b[0;34m,\u001b[0m \u001b[0mmetrics\u001b[0m \u001b[0;34m=\u001b[0m \u001b[0;34m[\u001b[0m\u001b[0;34m'accuracy'\u001b[0m\u001b[0;34m]\u001b[0m\u001b[0;34m)\u001b[0m \u001b[0;31m# y_train already utils.to_categorical no need to use sparse (below)\u001b[0m\u001b[0;34m\u001b[0m\u001b[0;34m\u001b[0m\u001b[0m\n\u001b[1;32m      5\u001b[0m history = model.fit(train_datagenerator, batch_size = 32, epochs = 22, validation_data = val_datagenerator, workers = 10, use_multiprocessing = True,\n\u001b[0;32m----> 6\u001b[0;31m                     callbacks = [early_stopping_cb, checkpoint_cb])\n\u001b[0m",
            "\u001b[0;32m/usr/local/lib/python3.7/dist-packages/keras/utils/traceback_utils.py\u001b[0m in \u001b[0;36merror_handler\u001b[0;34m(*args, **kwargs)\u001b[0m\n\u001b[1;32m     62\u001b[0m     \u001b[0mfiltered_tb\u001b[0m \u001b[0;34m=\u001b[0m \u001b[0;32mNone\u001b[0m\u001b[0;34m\u001b[0m\u001b[0;34m\u001b[0m\u001b[0m\n\u001b[1;32m     63\u001b[0m     \u001b[0;32mtry\u001b[0m\u001b[0;34m:\u001b[0m\u001b[0;34m\u001b[0m\u001b[0;34m\u001b[0m\u001b[0m\n\u001b[0;32m---> 64\u001b[0;31m       \u001b[0;32mreturn\u001b[0m \u001b[0mfn\u001b[0m\u001b[0;34m(\u001b[0m\u001b[0;34m*\u001b[0m\u001b[0margs\u001b[0m\u001b[0;34m,\u001b[0m \u001b[0;34m**\u001b[0m\u001b[0mkwargs\u001b[0m\u001b[0;34m)\u001b[0m\u001b[0;34m\u001b[0m\u001b[0;34m\u001b[0m\u001b[0m\n\u001b[0m\u001b[1;32m     65\u001b[0m     \u001b[0;32mexcept\u001b[0m \u001b[0mException\u001b[0m \u001b[0;32mas\u001b[0m \u001b[0me\u001b[0m\u001b[0;34m:\u001b[0m  \u001b[0;31m# pylint: disable=broad-except\u001b[0m\u001b[0;34m\u001b[0m\u001b[0;34m\u001b[0m\u001b[0m\n\u001b[1;32m     66\u001b[0m       \u001b[0mfiltered_tb\u001b[0m \u001b[0;34m=\u001b[0m \u001b[0m_process_traceback_frames\u001b[0m\u001b[0;34m(\u001b[0m\u001b[0me\u001b[0m\u001b[0;34m.\u001b[0m\u001b[0m__traceback__\u001b[0m\u001b[0;34m)\u001b[0m\u001b[0;34m\u001b[0m\u001b[0;34m\u001b[0m\u001b[0m\n",
            "\u001b[0;32m/usr/local/lib/python3.7/dist-packages/keras/engine/training.py\u001b[0m in \u001b[0;36mfit\u001b[0;34m(self, x, y, batch_size, epochs, verbose, callbacks, validation_split, validation_data, shuffle, class_weight, sample_weight, initial_epoch, steps_per_epoch, validation_steps, validation_batch_size, validation_freq, max_queue_size, workers, use_multiprocessing)\u001b[0m\n\u001b[1;32m   1214\u001b[0m                 _r=1):\n\u001b[1;32m   1215\u001b[0m               \u001b[0mcallbacks\u001b[0m\u001b[0;34m.\u001b[0m\u001b[0mon_train_batch_begin\u001b[0m\u001b[0;34m(\u001b[0m\u001b[0mstep\u001b[0m\u001b[0;34m)\u001b[0m\u001b[0;34m\u001b[0m\u001b[0;34m\u001b[0m\u001b[0m\n\u001b[0;32m-> 1216\u001b[0;31m               \u001b[0mtmp_logs\u001b[0m \u001b[0;34m=\u001b[0m \u001b[0mself\u001b[0m\u001b[0;34m.\u001b[0m\u001b[0mtrain_function\u001b[0m\u001b[0;34m(\u001b[0m\u001b[0miterator\u001b[0m\u001b[0;34m)\u001b[0m\u001b[0;34m\u001b[0m\u001b[0;34m\u001b[0m\u001b[0m\n\u001b[0m\u001b[1;32m   1217\u001b[0m               \u001b[0;32mif\u001b[0m \u001b[0mdata_handler\u001b[0m\u001b[0;34m.\u001b[0m\u001b[0mshould_sync\u001b[0m\u001b[0;34m:\u001b[0m\u001b[0;34m\u001b[0m\u001b[0;34m\u001b[0m\u001b[0m\n\u001b[1;32m   1218\u001b[0m                 \u001b[0mcontext\u001b[0m\u001b[0;34m.\u001b[0m\u001b[0masync_wait\u001b[0m\u001b[0;34m(\u001b[0m\u001b[0;34m)\u001b[0m\u001b[0;34m\u001b[0m\u001b[0;34m\u001b[0m\u001b[0m\n",
            "\u001b[0;32m/usr/local/lib/python3.7/dist-packages/tensorflow/python/util/traceback_utils.py\u001b[0m in \u001b[0;36merror_handler\u001b[0;34m(*args, **kwargs)\u001b[0m\n\u001b[1;32m    148\u001b[0m     \u001b[0mfiltered_tb\u001b[0m \u001b[0;34m=\u001b[0m \u001b[0;32mNone\u001b[0m\u001b[0;34m\u001b[0m\u001b[0;34m\u001b[0m\u001b[0m\n\u001b[1;32m    149\u001b[0m     \u001b[0;32mtry\u001b[0m\u001b[0;34m:\u001b[0m\u001b[0;34m\u001b[0m\u001b[0;34m\u001b[0m\u001b[0m\n\u001b[0;32m--> 150\u001b[0;31m       \u001b[0;32mreturn\u001b[0m \u001b[0mfn\u001b[0m\u001b[0;34m(\u001b[0m\u001b[0;34m*\u001b[0m\u001b[0margs\u001b[0m\u001b[0;34m,\u001b[0m \u001b[0;34m**\u001b[0m\u001b[0mkwargs\u001b[0m\u001b[0;34m)\u001b[0m\u001b[0;34m\u001b[0m\u001b[0;34m\u001b[0m\u001b[0m\n\u001b[0m\u001b[1;32m    151\u001b[0m     \u001b[0;32mexcept\u001b[0m \u001b[0mException\u001b[0m \u001b[0;32mas\u001b[0m \u001b[0me\u001b[0m\u001b[0;34m:\u001b[0m\u001b[0;34m\u001b[0m\u001b[0;34m\u001b[0m\u001b[0m\n\u001b[1;32m    152\u001b[0m       \u001b[0mfiltered_tb\u001b[0m \u001b[0;34m=\u001b[0m \u001b[0m_process_traceback_frames\u001b[0m\u001b[0;34m(\u001b[0m\u001b[0me\u001b[0m\u001b[0;34m.\u001b[0m\u001b[0m__traceback__\u001b[0m\u001b[0;34m)\u001b[0m\u001b[0;34m\u001b[0m\u001b[0;34m\u001b[0m\u001b[0m\n",
            "\u001b[0;32m/usr/local/lib/python3.7/dist-packages/tensorflow/python/eager/def_function.py\u001b[0m in \u001b[0;36m__call__\u001b[0;34m(self, *args, **kwds)\u001b[0m\n\u001b[1;32m    908\u001b[0m \u001b[0;34m\u001b[0m\u001b[0m\n\u001b[1;32m    909\u001b[0m       \u001b[0;32mwith\u001b[0m \u001b[0mOptionalXlaContext\u001b[0m\u001b[0;34m(\u001b[0m\u001b[0mself\u001b[0m\u001b[0;34m.\u001b[0m\u001b[0m_jit_compile\u001b[0m\u001b[0;34m)\u001b[0m\u001b[0;34m:\u001b[0m\u001b[0;34m\u001b[0m\u001b[0;34m\u001b[0m\u001b[0m\n\u001b[0;32m--> 910\u001b[0;31m         \u001b[0mresult\u001b[0m \u001b[0;34m=\u001b[0m \u001b[0mself\u001b[0m\u001b[0;34m.\u001b[0m\u001b[0m_call\u001b[0m\u001b[0;34m(\u001b[0m\u001b[0;34m*\u001b[0m\u001b[0margs\u001b[0m\u001b[0;34m,\u001b[0m \u001b[0;34m**\u001b[0m\u001b[0mkwds\u001b[0m\u001b[0;34m)\u001b[0m\u001b[0;34m\u001b[0m\u001b[0;34m\u001b[0m\u001b[0m\n\u001b[0m\u001b[1;32m    911\u001b[0m \u001b[0;34m\u001b[0m\u001b[0m\n\u001b[1;32m    912\u001b[0m       \u001b[0mnew_tracing_count\u001b[0m \u001b[0;34m=\u001b[0m \u001b[0mself\u001b[0m\u001b[0;34m.\u001b[0m\u001b[0mexperimental_get_tracing_count\u001b[0m\u001b[0;34m(\u001b[0m\u001b[0;34m)\u001b[0m\u001b[0;34m\u001b[0m\u001b[0;34m\u001b[0m\u001b[0m\n",
            "\u001b[0;32m/usr/local/lib/python3.7/dist-packages/tensorflow/python/eager/def_function.py\u001b[0m in \u001b[0;36m_call\u001b[0;34m(self, *args, **kwds)\u001b[0m\n\u001b[1;32m    940\u001b[0m       \u001b[0;31m# In this case we have created variables on the first call, so we run the\u001b[0m\u001b[0;34m\u001b[0m\u001b[0;34m\u001b[0m\u001b[0;34m\u001b[0m\u001b[0m\n\u001b[1;32m    941\u001b[0m       \u001b[0;31m# defunned version which is guaranteed to never create variables.\u001b[0m\u001b[0;34m\u001b[0m\u001b[0;34m\u001b[0m\u001b[0;34m\u001b[0m\u001b[0m\n\u001b[0;32m--> 942\u001b[0;31m       \u001b[0;32mreturn\u001b[0m \u001b[0mself\u001b[0m\u001b[0;34m.\u001b[0m\u001b[0m_stateless_fn\u001b[0m\u001b[0;34m(\u001b[0m\u001b[0;34m*\u001b[0m\u001b[0margs\u001b[0m\u001b[0;34m,\u001b[0m \u001b[0;34m**\u001b[0m\u001b[0mkwds\u001b[0m\u001b[0;34m)\u001b[0m  \u001b[0;31m# pylint: disable=not-callable\u001b[0m\u001b[0;34m\u001b[0m\u001b[0;34m\u001b[0m\u001b[0m\n\u001b[0m\u001b[1;32m    943\u001b[0m     \u001b[0;32melif\u001b[0m \u001b[0mself\u001b[0m\u001b[0;34m.\u001b[0m\u001b[0m_stateful_fn\u001b[0m \u001b[0;32mis\u001b[0m \u001b[0;32mnot\u001b[0m \u001b[0;32mNone\u001b[0m\u001b[0;34m:\u001b[0m\u001b[0;34m\u001b[0m\u001b[0;34m\u001b[0m\u001b[0m\n\u001b[1;32m    944\u001b[0m       \u001b[0;31m# Release the lock early so that multiple threads can perform the call\u001b[0m\u001b[0;34m\u001b[0m\u001b[0;34m\u001b[0m\u001b[0;34m\u001b[0m\u001b[0m\n",
            "\u001b[0;32m/usr/local/lib/python3.7/dist-packages/tensorflow/python/eager/function.py\u001b[0m in \u001b[0;36m__call__\u001b[0;34m(self, *args, **kwargs)\u001b[0m\n\u001b[1;32m   3129\u001b[0m        filtered_flat_args) = self._maybe_define_function(args, kwargs)\n\u001b[1;32m   3130\u001b[0m     return graph_function._call_flat(\n\u001b[0;32m-> 3131\u001b[0;31m         filtered_flat_args, captured_inputs=graph_function.captured_inputs)  # pylint: disable=protected-access\n\u001b[0m\u001b[1;32m   3132\u001b[0m \u001b[0;34m\u001b[0m\u001b[0m\n\u001b[1;32m   3133\u001b[0m   \u001b[0;34m@\u001b[0m\u001b[0mproperty\u001b[0m\u001b[0;34m\u001b[0m\u001b[0;34m\u001b[0m\u001b[0m\n",
            "\u001b[0;32m/usr/local/lib/python3.7/dist-packages/tensorflow/python/eager/function.py\u001b[0m in \u001b[0;36m_call_flat\u001b[0;34m(self, args, captured_inputs, cancellation_manager)\u001b[0m\n\u001b[1;32m   1958\u001b[0m       \u001b[0;31m# No tape is watching; skip to running the function.\u001b[0m\u001b[0;34m\u001b[0m\u001b[0;34m\u001b[0m\u001b[0;34m\u001b[0m\u001b[0m\n\u001b[1;32m   1959\u001b[0m       return self._build_call_outputs(self._inference_function.call(\n\u001b[0;32m-> 1960\u001b[0;31m           ctx, args, cancellation_manager=cancellation_manager))\n\u001b[0m\u001b[1;32m   1961\u001b[0m     forward_backward = self._select_forward_and_backward_functions(\n\u001b[1;32m   1962\u001b[0m         \u001b[0margs\u001b[0m\u001b[0;34m,\u001b[0m\u001b[0;34m\u001b[0m\u001b[0;34m\u001b[0m\u001b[0m\n",
            "\u001b[0;32m/usr/local/lib/python3.7/dist-packages/tensorflow/python/eager/function.py\u001b[0m in \u001b[0;36mcall\u001b[0;34m(self, ctx, args, cancellation_manager)\u001b[0m\n\u001b[1;32m    601\u001b[0m               \u001b[0minputs\u001b[0m\u001b[0;34m=\u001b[0m\u001b[0margs\u001b[0m\u001b[0;34m,\u001b[0m\u001b[0;34m\u001b[0m\u001b[0;34m\u001b[0m\u001b[0m\n\u001b[1;32m    602\u001b[0m               \u001b[0mattrs\u001b[0m\u001b[0;34m=\u001b[0m\u001b[0mattrs\u001b[0m\u001b[0;34m,\u001b[0m\u001b[0;34m\u001b[0m\u001b[0;34m\u001b[0m\u001b[0m\n\u001b[0;32m--> 603\u001b[0;31m               ctx=ctx)\n\u001b[0m\u001b[1;32m    604\u001b[0m         \u001b[0;32melse\u001b[0m\u001b[0;34m:\u001b[0m\u001b[0;34m\u001b[0m\u001b[0;34m\u001b[0m\u001b[0m\n\u001b[1;32m    605\u001b[0m           outputs = execute.execute_with_cancellation(\n",
            "\u001b[0;32m/usr/local/lib/python3.7/dist-packages/tensorflow/python/eager/execute.py\u001b[0m in \u001b[0;36mquick_execute\u001b[0;34m(op_name, num_outputs, inputs, attrs, ctx, name)\u001b[0m\n\u001b[1;32m     57\u001b[0m     \u001b[0mctx\u001b[0m\u001b[0;34m.\u001b[0m\u001b[0mensure_initialized\u001b[0m\u001b[0;34m(\u001b[0m\u001b[0;34m)\u001b[0m\u001b[0;34m\u001b[0m\u001b[0;34m\u001b[0m\u001b[0m\n\u001b[1;32m     58\u001b[0m     tensors = pywrap_tfe.TFE_Py_Execute(ctx._handle, device_name, op_name,\n\u001b[0;32m---> 59\u001b[0;31m                                         inputs, attrs, num_outputs)\n\u001b[0m\u001b[1;32m     60\u001b[0m   \u001b[0;32mexcept\u001b[0m \u001b[0mcore\u001b[0m\u001b[0;34m.\u001b[0m\u001b[0m_NotOkStatusException\u001b[0m \u001b[0;32mas\u001b[0m \u001b[0me\u001b[0m\u001b[0;34m:\u001b[0m\u001b[0;34m\u001b[0m\u001b[0;34m\u001b[0m\u001b[0m\n\u001b[1;32m     61\u001b[0m     \u001b[0;32mif\u001b[0m \u001b[0mname\u001b[0m \u001b[0;32mis\u001b[0m \u001b[0;32mnot\u001b[0m \u001b[0;32mNone\u001b[0m\u001b[0;34m:\u001b[0m\u001b[0;34m\u001b[0m\u001b[0;34m\u001b[0m\u001b[0m\n",
            "\u001b[0;31mKeyboardInterrupt\u001b[0m: "
          ]
        }
      ]
    },
    {
      "cell_type": "code",
      "source": [
        "model.evaluate(test_datagenerator)"
      ],
      "metadata": {
        "id": "Rfg43IzbK7_w"
      },
      "execution_count": null,
      "outputs": []
    },
    {
      "cell_type": "markdown",
      "source": [
        "# VGG16"
      ],
      "metadata": {
        "id": "Vy-zRLgE5Agy"
      }
    },
    {
      "cell_type": "code",
      "source": [
        "from keras.applications.vgg16 import preprocess_input"
      ],
      "metadata": {
        "id": "9UivePvu5OCD"
      },
      "execution_count": null,
      "outputs": []
    },
    {
      "cell_type": "code",
      "source": [
        "# Creating generator for the training set\n",
        "train_gen = ImageDataGenerator(\n",
        "    preprocessing_function= preprocess_input,\n",
        "    shear_range = 0.1,\n",
        "    zoom_range = 0.1,\n",
        "    horizontal_flip= True\n",
        ")\n",
        "\n",
        "train_datagenerator = train_gen.flow_from_directory(\n",
        "    '/content/classifying-birds/train',\n",
        "    target_size= (224,224),\n",
        "    color_mode = 'rgb',\n",
        "    class_mode = 'categorical',\n",
        "    batch_size = 64, \n",
        "    shuffle = True\n",
        ")\n",
        "\n",
        "\n",
        "val_gen = ImageDataGenerator(\n",
        "    preprocessing_function= preprocess_input,\n",
        "    # shear_range = 0.1,\n",
        "    # zoom_range = 0.1,\n",
        "    # horizontal_flip= True\n",
        ")\n",
        "\n",
        "val_datagenerator = val_gen.flow_from_directory(\n",
        "    '/content/classifying-birds/valid',\n",
        "    target_size= (224,224),\n",
        "    color_mode = 'rgb',\n",
        "    class_mode = 'categorical',\n",
        "    batch_size = 32, \n",
        "    shuffle = True\n",
        ")"
      ],
      "metadata": {
        "colab": {
          "base_uri": "https://localhost:8080/"
        },
        "id": "tbB43Dyy5WcP",
        "outputId": "da7f3393-857f-4625-eddd-6ddc098d58b0"
      },
      "execution_count": null,
      "outputs": [
        {
          "output_type": "stream",
          "name": "stdout",
          "text": [
            "Found 47332 images belonging to 325 classes.\n",
            "Found 1625 images belonging to 325 classes.\n"
          ]
        }
      ]
    },
    {
      "cell_type": "markdown",
      "source": [
        "## Build and train VGG model"
      ],
      "metadata": {
        "id": "VWHCh1Y_6FRi"
      }
    },
    {
      "cell_type": "code",
      "source": [
        "base_model = keras.applications.VGG16(\n",
        "    include_top = False,\n",
        "    weights = 'imagenet',\n",
        "    input_shape = (224,224,3) # the input of the model is 224x224x3 (rgb)\n",
        ")\n",
        "# freeze all the params\n",
        "base_model.trainable = False"
      ],
      "metadata": {
        "colab": {
          "base_uri": "https://localhost:8080/"
        },
        "id": "6qDRGysG62yc",
        "outputId": "bf3850d6-3130-4b98-a6cd-976e32b405cb"
      },
      "execution_count": null,
      "outputs": [
        {
          "output_type": "stream",
          "name": "stdout",
          "text": [
            "Downloading data from https://storage.googleapis.com/tensorflow/keras-applications/vgg16/vgg16_weights_tf_dim_ordering_tf_kernels_notop.h5\n",
            "58892288/58889256 [==============================] - 0s 0us/step\n",
            "58900480/58889256 [==============================] - 0s 0us/step\n"
          ]
        }
      ]
    },
    {
      "cell_type": "code",
      "source": [
        "model = keras.models.Sequential([\n",
        "    base_model,\n",
        "    keras.layers.Flatten(),\n",
        "    keras.layers.Dense(1028, activation = 'selu', kernel_initializer= 'lecun_normal'),\n",
        "    keras.layers.BatchNormalization(), \n",
        "    keras.layers.Dropout(0.75),\n",
        "    keras.layers.Dense(512, activation = 'selu', kernel_initializer= 'lecun_normal'),\n",
        "    keras.layers.BatchNormalization(), \n",
        "    keras.layers.Dropout(0.5),\n",
        "    keras.layers.Dense(325, activation = 'softmax', kernel_initializer= 'glorot_normal')\n",
        "])"
      ],
      "metadata": {
        "id": "9BZuj_hW7HmH"
      },
      "execution_count": null,
      "outputs": []
    },
    {
      "cell_type": "code",
      "source": [
        "from google.colab import drive\n",
        "drive.mount('/content/drive')"
      ],
      "metadata": {
        "id": "FJSV3GpeJyLy"
      },
      "execution_count": null,
      "outputs": []
    },
    {
      "cell_type": "code",
      "source": [
        "model.summary()"
      ],
      "metadata": {
        "colab": {
          "base_uri": "https://localhost:8080/"
        },
        "id": "lzkkjRlB86qo",
        "outputId": "08921268-8b5f-49ce-a4c1-5ccbcc0a3fd9"
      },
      "execution_count": null,
      "outputs": [
        {
          "output_type": "stream",
          "name": "stdout",
          "text": [
            "Model: \"sequential\"\n",
            "_________________________________________________________________\n",
            " Layer (type)                Output Shape              Param #   \n",
            "=================================================================\n",
            " vgg16 (Functional)          (None, 7, 7, 512)         14714688  \n",
            "                                                                 \n",
            " flatten (Flatten)           (None, 25088)             0         \n",
            "                                                                 \n",
            " dense (Dense)               (None, 1028)              25791492  \n",
            "                                                                 \n",
            " batch_normalization (BatchN  (None, 1028)             4112      \n",
            " ormalization)                                                   \n",
            "                                                                 \n",
            " dropout (Dropout)           (None, 1028)              0         \n",
            "                                                                 \n",
            " dense_1 (Dense)             (None, 512)               526848    \n",
            "                                                                 \n",
            " batch_normalization_1 (Batc  (None, 512)              2048      \n",
            " hNormalization)                                                 \n",
            "                                                                 \n",
            " dropout_1 (Dropout)         (None, 512)               0         \n",
            "                                                                 \n",
            " dense_2 (Dense)             (None, 325)               166725    \n",
            "                                                                 \n",
            "=================================================================\n",
            "Total params: 41,205,913\n",
            "Trainable params: 26,488,145\n",
            "Non-trainable params: 14,717,768\n",
            "_________________________________________________________________\n"
          ]
        }
      ]
    },
    {
      "cell_type": "code",
      "source": [
        "checkpoint_cb = keras.callbacks.ModelCheckpoint('keras_model.h5')\n",
        "early_stopping_cb = keras.callbacks.EarlyStopping(patience = 6, restore_best_weights= True)\n",
        "model.compile(optimizer = 'nadam', loss = 'categorical_crossentropy', metrics = ['accuracy']) # y_train already utils.to_categorical no need to use sparse (below)\n",
        "history = model.fit(train_datagenerator, batch_size = 64, epochs = 30, validation_data = val_datagenerator, workers = 10, use_multiprocessing = True,\n",
        "                    callbacks = [early_stopping_cb, checkpoint_cb])"
      ],
      "metadata": {
        "colab": {
          "base_uri": "https://localhost:8080/"
        },
        "id": "rjwlqTVy88ii",
        "outputId": "aa412ad0-35a8-4cea-9ce0-a355a7fe2b61"
      },
      "execution_count": null,
      "outputs": [
        {
          "output_type": "stream",
          "name": "stdout",
          "text": [
            "Epoch 1/30\n",
            "740/740 [==============================] - 641s 821ms/step - loss: 2.8047 - accuracy: 0.3888 - val_loss: 0.4682 - val_accuracy: 0.8732\n",
            "Epoch 2/30\n",
            "740/740 [==============================] - 584s 778ms/step - loss: 1.2184 - accuracy: 0.6733 - val_loss: 0.2762 - val_accuracy: 0.9243\n",
            "Epoch 3/30\n",
            "740/740 [==============================] - 581s 775ms/step - loss: 0.9628 - accuracy: 0.7379 - val_loss: 0.2659 - val_accuracy: 0.9274\n",
            "Epoch 4/30\n",
            "740/740 [==============================] - 582s 775ms/step - loss: 0.8383 - accuracy: 0.7680 - val_loss: 0.2079 - val_accuracy: 0.9366\n",
            "Epoch 5/30\n",
            "740/740 [==============================] - 580s 773ms/step - loss: 0.7598 - accuracy: 0.7841 - val_loss: 0.1832 - val_accuracy: 0.9452\n",
            "Epoch 6/30\n",
            "740/740 [==============================] - 602s 803ms/step - loss: 0.6987 - accuracy: 0.8020 - val_loss: 0.1699 - val_accuracy: 0.9458\n",
            "Epoch 7/30\n",
            "740/740 [==============================] - 587s 782ms/step - loss: 0.6450 - accuracy: 0.8140 - val_loss: 0.1579 - val_accuracy: 0.9495\n",
            "Epoch 8/30\n",
            "740/740 [==============================] - 586s 782ms/step - loss: 0.6015 - accuracy: 0.8263 - val_loss: 0.1450 - val_accuracy: 0.9545\n",
            "Epoch 9/30\n",
            "740/740 [==============================] - 586s 782ms/step - loss: 0.5658 - accuracy: 0.8335 - val_loss: 0.1488 - val_accuracy: 0.9471\n",
            "Epoch 10/30\n",
            "740/740 [==============================] - 589s 785ms/step - loss: 0.5335 - accuracy: 0.8428 - val_loss: 0.1381 - val_accuracy: 0.9594\n",
            "Epoch 11/30\n",
            "740/740 [==============================] - 587s 783ms/step - loss: 0.5080 - accuracy: 0.8503 - val_loss: 0.1490 - val_accuracy: 0.9526\n",
            "Epoch 12/30\n",
            "740/740 [==============================] - 587s 781ms/step - loss: 0.4867 - accuracy: 0.8557 - val_loss: 0.1268 - val_accuracy: 0.9588\n",
            "Epoch 13/30\n",
            "740/740 [==============================] - 588s 784ms/step - loss: 0.4600 - accuracy: 0.8640 - val_loss: 0.1403 - val_accuracy: 0.9563\n",
            "Epoch 14/30\n",
            "740/740 [==============================] - 586s 781ms/step - loss: 0.4441 - accuracy: 0.8686 - val_loss: 0.1311 - val_accuracy: 0.9612\n",
            "Epoch 15/30\n",
            "740/740 [==============================] - 585s 780ms/step - loss: 0.4348 - accuracy: 0.8707 - val_loss: 0.1286 - val_accuracy: 0.9575\n",
            "Epoch 16/30\n",
            "740/740 [==============================] - 591s 788ms/step - loss: 0.4041 - accuracy: 0.8787 - val_loss: 0.1201 - val_accuracy: 0.9618\n",
            "Epoch 17/30\n",
            "740/740 [==============================] - 583s 778ms/step - loss: 0.3876 - accuracy: 0.8833 - val_loss: 0.1241 - val_accuracy: 0.9631\n",
            "Epoch 18/30\n",
            "740/740 [==============================] - 584s 779ms/step - loss: 0.3748 - accuracy: 0.8858 - val_loss: 0.1259 - val_accuracy: 0.9631\n",
            "Epoch 19/30\n",
            "740/740 [==============================] - 584s 778ms/step - loss: 0.3610 - accuracy: 0.8905 - val_loss: 0.1327 - val_accuracy: 0.9582\n",
            "Epoch 20/30\n",
            "740/740 [==============================] - 585s 781ms/step - loss: 0.3532 - accuracy: 0.8929 - val_loss: 0.1285 - val_accuracy: 0.9594\n",
            "Epoch 21/30\n",
            "740/740 [==============================] - 585s 780ms/step - loss: 0.3303 - accuracy: 0.8985 - val_loss: 0.1246 - val_accuracy: 0.9618\n",
            "Epoch 22/30\n",
            "740/740 [==============================] - 590s 787ms/step - loss: 0.3151 - accuracy: 0.9035 - val_loss: 0.1337 - val_accuracy: 0.9582\n",
            "Epoch 23/30\n",
            "740/740 [==============================] - 588s 784ms/step - loss: 0.3086 - accuracy: 0.9064 - val_loss: 0.1298 - val_accuracy: 0.9582\n",
            "Epoch 24/30\n",
            "740/740 [==============================] - 587s 784ms/step - loss: 0.3081 - accuracy: 0.9049 - val_loss: 0.1264 - val_accuracy: 0.9594\n",
            "Epoch 25/30\n",
            "740/740 [==============================] - 583s 777ms/step - loss: 0.2891 - accuracy: 0.9101 - val_loss: 0.1333 - val_accuracy: 0.9582\n",
            "Epoch 26/30\n",
            "740/740 [==============================] - 582s 776ms/step - loss: 0.2887 - accuracy: 0.9119 - val_loss: 0.1286 - val_accuracy: 0.9618\n",
            "Epoch 27/30\n",
            "740/740 [==============================] - 581s 774ms/step - loss: 0.2764 - accuracy: 0.9135 - val_loss: 0.1224 - val_accuracy: 0.9612\n",
            "Epoch 28/30\n",
            "740/740 [==============================] - 585s 780ms/step - loss: 0.2672 - accuracy: 0.9165 - val_loss: 0.1237 - val_accuracy: 0.9643\n",
            "Epoch 29/30\n",
            "740/740 [==============================] - 582s 775ms/step - loss: 0.2597 - accuracy: 0.9194 - val_loss: 0.1201 - val_accuracy: 0.9600\n",
            "Epoch 30/30\n",
            "740/740 [==============================] - 580s 774ms/step - loss: 0.2619 - accuracy: 0.9188 - val_loss: 0.1214 - val_accuracy: 0.9631\n"
          ]
        }
      ]
    },
    {
      "cell_type": "code",
      "source": [
        "train_datagenerator[1][1][0] "
      ],
      "metadata": {
        "colab": {
          "base_uri": "https://localhost:8080/"
        },
        "id": "G2_r8CWD9NtO",
        "outputId": "e7cd113a-5d2d-4db3-ed09-42af730d418b"
      },
      "execution_count": null,
      "outputs": [
        {
          "output_type": "execute_result",
          "data": {
            "text/plain": [
              "array([0., 0., 0., 0., 0., 0., 0., 0., 0., 0., 0., 0., 0., 0., 0., 0., 0.,\n",
              "       0., 0., 0., 0., 0., 0., 0., 0., 0., 0., 0., 0., 0., 0., 0., 0., 0.,\n",
              "       0., 0., 0., 0., 0., 0., 0., 0., 0., 0., 0., 0., 0., 0., 0., 0., 0.,\n",
              "       0., 0., 0., 0., 0., 0., 0., 0., 0., 0., 0., 0., 0., 0., 0., 0., 0.,\n",
              "       0., 0., 0., 0., 0., 0., 0., 0., 0., 0., 0., 0., 0., 0., 0., 0., 0.,\n",
              "       0., 0., 0., 0., 0., 0., 0., 0., 0., 0., 0., 0., 0., 0., 0., 0., 0.,\n",
              "       0., 0., 0., 0., 0., 0., 0., 0., 0., 0., 0., 0., 0., 0., 0., 0., 0.,\n",
              "       0., 0., 0., 0., 0., 0., 0., 0., 0., 0., 1., 0., 0., 0., 0., 0., 0.,\n",
              "       0., 0., 0., 0., 0., 0., 0., 0., 0., 0., 0., 0., 0., 0., 0., 0., 0.,\n",
              "       0., 0., 0., 0., 0., 0., 0., 0., 0., 0., 0., 0., 0., 0., 0., 0., 0.,\n",
              "       0., 0., 0., 0., 0., 0., 0., 0., 0., 0., 0., 0., 0., 0., 0., 0., 0.,\n",
              "       0., 0., 0., 0., 0., 0., 0., 0., 0., 0., 0., 0., 0., 0., 0., 0., 0.,\n",
              "       0., 0., 0., 0., 0., 0., 0., 0., 0., 0., 0., 0., 0., 0., 0., 0., 0.,\n",
              "       0., 0., 0., 0., 0., 0., 0., 0., 0., 0., 0., 0., 0., 0., 0., 0., 0.,\n",
              "       0., 0., 0., 0., 0., 0., 0., 0., 0., 0., 0., 0., 0., 0., 0., 0., 0.,\n",
              "       0., 0., 0., 0., 0., 0., 0., 0., 0., 0., 0., 0., 0., 0., 0., 0., 0.,\n",
              "       0., 0., 0., 0., 0., 0., 0., 0., 0., 0., 0., 0., 0., 0., 0., 0., 0.,\n",
              "       0., 0., 0., 0., 0., 0., 0., 0., 0., 0., 0., 0., 0., 0., 0., 0., 0.,\n",
              "       0., 0., 0., 0., 0., 0., 0., 0., 0., 0., 0., 0., 0., 0., 0., 0., 0.,\n",
              "       0., 0.], dtype=float32)"
            ]
          },
          "metadata": {},
          "execution_count": 10
        }
      ]
    },
    {
      "cell_type": "markdown",
      "source": [
        "# Own CNN\n"
      ],
      "metadata": {
        "id": "iVkn_7B29OQY"
      }
    },
    {
      "cell_type": "code",
      "source": [
        "# Creating generator for the training set\n",
        "train_gen = ImageDataGenerator(\n",
        "    rescale = 1/255.,\n",
        "    shear_range = 0.1,\n",
        "    zoom_range = 0.1,\n",
        "    horizontal_flip= True\n",
        ")\n",
        "\n",
        "train_datagenerator = train_gen.flow_from_directory(\n",
        "    '/content/classifying-birds/train',\n",
        "    target_size= (224,224),\n",
        "    color_mode = 'rgb',\n",
        "    class_mode = 'categorical',\n",
        "    batch_size = 32, \n",
        "    shuffle = True\n",
        ")\n",
        "\n",
        "\n",
        "val_gen = ImageDataGenerator(\n",
        "    rescale = 1/255.\n",
        "    # shear_range = 0.1,\n",
        "    # zoom_range = 0.1,\n",
        "    # horizontal_flip= True\n",
        ")\n",
        "\n",
        "val_datagenerator = val_gen.flow_from_directory(\n",
        "    '/content/classifying-birds/valid',\n",
        "    target_size= (224,224),\n",
        "    color_mode = 'rgb',\n",
        "    class_mode = 'categorical',\n",
        "    batch_size = 32, \n",
        "    shuffle = False\n",
        ")\n",
        "\n",
        "test_gen = ImageDataGenerator(\n",
        "    rescale = 1/255.\n",
        "    # shear_range = 0.1,\n",
        "    # zoom_range = 0.1,\n",
        "    # horizontal_flip= True\n",
        ")\n",
        "\n",
        "test_datagenerator = test_gen.flow_from_directory(\n",
        "    '/content/classifying-birds/test',\n",
        "    target_size= (224,224),\n",
        "    color_mode = 'rgb',\n",
        "    class_mode = 'categorical',\n",
        "    batch_size = 32, \n",
        "    shuffle = False\n",
        ")\n",
        "\n"
      ],
      "metadata": {
        "colab": {
          "base_uri": "https://localhost:8080/"
        },
        "id": "-gz8bS6nXRfm",
        "outputId": "883eff8e-7e63-4155-c4ad-0596c37b6eaa"
      },
      "execution_count": null,
      "outputs": [
        {
          "output_type": "stream",
          "name": "stdout",
          "text": [
            "Found 47332 images belonging to 325 classes.\n",
            "Found 1625 images belonging to 325 classes.\n",
            "Found 1625 images belonging to 325 classes.\n"
          ]
        }
      ]
    },
    {
      "cell_type": "code",
      "source": [
        "len(train_datagenerator)"
      ],
      "metadata": {
        "colab": {
          "base_uri": "https://localhost:8080/"
        },
        "id": "DAArykCZlbf7",
        "outputId": "1c200c4d-df96-40be-8c6d-397469053b9c"
      },
      "execution_count": null,
      "outputs": [
        {
          "output_type": "execute_result",
          "data": {
            "text/plain": [
              "1480"
            ]
          },
          "metadata": {},
          "execution_count": 5
        }
      ]
    },
    {
      "cell_type": "code",
      "source": [
        "train_datagenerator[0] # a 2 element tuple, first ind = X_train, y_train\n",
        "train_datagenerator[0][0].shape"
      ],
      "metadata": {
        "colab": {
          "base_uri": "https://localhost:8080/"
        },
        "id": "PVpUkxvrl18i",
        "outputId": "7a74c679-a71c-4f42-d077-6fb1d6fc81fa"
      },
      "execution_count": null,
      "outputs": [
        {
          "output_type": "execute_result",
          "data": {
            "text/plain": [
              "(32, 224, 224, 3)"
            ]
          },
          "metadata": {},
          "execution_count": 6
        }
      ]
    },
    {
      "cell_type": "code",
      "source": [
        "# model = keras.models.Sequential()\n",
        "# for i in range(15):\n",
        "#   if i == 0:\n",
        "#     model.add(keras.layers.Input(shape = (224,224,3)))\n",
        "#   model.add(keras.layers.Conv2D(512, (2,2), activation = 'relu', padding = 'SAME'))\n",
        "#   model.add(keras.layers.Conv2D(1024, (3,3), activation = 'relu', padding = 'SAME'))\n",
        "#   model.add(keras.layers.MaxPool2D(padding = 'SAME'))\n",
        "#   model.add(keras.layers.BatchNormalization())\n",
        "\n",
        "# model.add(keras.layers.GlobalMaxPooling2D())\n",
        "# model.add(keras.layers.Dense(450, activation = 'selu', kernel_initializer= 'lecun_normal'))\n",
        "# model.add(keras.layers.Dense(325, activation = 'softmax', kernel_initializer= 'glorot_normal'))\n",
        "\n",
        "from keras.layers import Conv2D, MaxPool2D, BatchNormalization, GlobalAvgPool2D, Dense, Flatten\n",
        "\n",
        "def bird_model():\n",
        "  my_input = keras.layers.Input(shape = (224,224,3))\n",
        "\n",
        "  \n",
        "  x = Conv2D(32, (3,3), activation= 'relu', padding = 'SAME')(my_input) # there are 32 filters, which are 3x3 size\n",
        "  x = MaxPool2D( padding = 'SAME')(x)  # look for the best value\n",
        "  x = BatchNormalization(momentum= 0.99)(x)\n",
        "\n",
        "  initial = 64\n",
        "  for i in range(7):\n",
        "    \n",
        "    x = Conv2D(initial, (3,3), activation= 'relu',  padding = 'SAME')(x)\n",
        "    x = MaxPool2D(padding = 'SAME')(x)\n",
        "    x = BatchNormalization()(x) # normalise the batch to prevent vanishing exploding\n",
        "    initial *=2\n",
        "\n",
        "\n",
        "\n",
        "  x = Flatten()(x) \n",
        "  x = BatchNormalization()(x)\n",
        "  # x = GlobalAvgPool2D()(x) # Output the last element of the previous BN/ either use flatten or globalavgpool\n",
        "  x = Dense(512, activation= 'selu', kernel_initializer = 'lecun_normal')(x)\n",
        "  x = BatchNormalization()(x) \n",
        "  x = Dense(1024, activation = 'selu', kernel_initializer = 'lecun_normal')(x)\n",
        "  x = Dense(325, activation= 'softmax')(x)\n",
        "\n",
        "  model = keras.models.Model(inputs = my_input, outputs = x)\n",
        "  # model = Model(... )\n",
        "  return model\n",
        "\n",
        "\n",
        "model = bird_model()\n",
        "\n",
        "\n"
      ],
      "metadata": {
        "id": "sgrmVY6cVpVj"
      },
      "execution_count": null,
      "outputs": []
    },
    {
      "cell_type": "code",
      "source": [
        "model.summary()"
      ],
      "metadata": {
        "colab": {
          "base_uri": "https://localhost:8080/"
        },
        "id": "mRa1OqQFsttW",
        "outputId": "35e75948-234f-48a8-a52d-a243abbdea50"
      },
      "execution_count": null,
      "outputs": [
        {
          "output_type": "stream",
          "name": "stdout",
          "text": [
            "Model: \"model\"\n",
            "_________________________________________________________________\n",
            " Layer (type)                Output Shape              Param #   \n",
            "=================================================================\n",
            " input_1 (InputLayer)        [(None, 224, 224, 3)]     0         \n",
            "                                                                 \n",
            " conv2d (Conv2D)             (None, 224, 224, 32)      896       \n",
            "                                                                 \n",
            " max_pooling2d (MaxPooling2D  (None, 112, 112, 32)     0         \n",
            " )                                                               \n",
            "                                                                 \n",
            " batch_normalization (BatchN  (None, 112, 112, 32)     128       \n",
            " ormalization)                                                   \n",
            "                                                                 \n",
            " conv2d_1 (Conv2D)           (None, 112, 112, 64)      18496     \n",
            "                                                                 \n",
            " max_pooling2d_1 (MaxPooling  (None, 56, 56, 64)       0         \n",
            " 2D)                                                             \n",
            "                                                                 \n",
            " batch_normalization_1 (Batc  (None, 56, 56, 64)       256       \n",
            " hNormalization)                                                 \n",
            "                                                                 \n",
            " conv2d_2 (Conv2D)           (None, 56, 56, 128)       73856     \n",
            "                                                                 \n",
            " max_pooling2d_2 (MaxPooling  (None, 28, 28, 128)      0         \n",
            " 2D)                                                             \n",
            "                                                                 \n",
            " batch_normalization_2 (Batc  (None, 28, 28, 128)      512       \n",
            " hNormalization)                                                 \n",
            "                                                                 \n",
            " conv2d_3 (Conv2D)           (None, 28, 28, 256)       295168    \n",
            "                                                                 \n",
            " max_pooling2d_3 (MaxPooling  (None, 14, 14, 256)      0         \n",
            " 2D)                                                             \n",
            "                                                                 \n",
            " batch_normalization_3 (Batc  (None, 14, 14, 256)      1024      \n",
            " hNormalization)                                                 \n",
            "                                                                 \n",
            " conv2d_4 (Conv2D)           (None, 14, 14, 512)       1180160   \n",
            "                                                                 \n",
            " max_pooling2d_4 (MaxPooling  (None, 7, 7, 512)        0         \n",
            " 2D)                                                             \n",
            "                                                                 \n",
            " batch_normalization_4 (Batc  (None, 7, 7, 512)        2048      \n",
            " hNormalization)                                                 \n",
            "                                                                 \n",
            " conv2d_5 (Conv2D)           (None, 7, 7, 1024)        4719616   \n",
            "                                                                 \n",
            " max_pooling2d_5 (MaxPooling  (None, 4, 4, 1024)       0         \n",
            " 2D)                                                             \n",
            "                                                                 \n",
            " batch_normalization_5 (Batc  (None, 4, 4, 1024)       4096      \n",
            " hNormalization)                                                 \n",
            "                                                                 \n",
            " conv2d_6 (Conv2D)           (None, 4, 4, 2048)        18876416  \n",
            "                                                                 \n",
            " max_pooling2d_6 (MaxPooling  (None, 2, 2, 2048)       0         \n",
            " 2D)                                                             \n",
            "                                                                 \n",
            " batch_normalization_6 (Batc  (None, 2, 2, 2048)       8192      \n",
            " hNormalization)                                                 \n",
            "                                                                 \n",
            " conv2d_7 (Conv2D)           (None, 2, 2, 4096)        75501568  \n",
            "                                                                 \n",
            " max_pooling2d_7 (MaxPooling  (None, 1, 1, 4096)       0         \n",
            " 2D)                                                             \n",
            "                                                                 \n",
            " batch_normalization_7 (Batc  (None, 1, 1, 4096)       16384     \n",
            " hNormalization)                                                 \n",
            "                                                                 \n",
            " flatten (Flatten)           (None, 4096)              0         \n",
            "                                                                 \n",
            " batch_normalization_8 (Batc  (None, 4096)             16384     \n",
            " hNormalization)                                                 \n",
            "                                                                 \n",
            " dense (Dense)               (None, 512)               2097664   \n",
            "                                                                 \n",
            " batch_normalization_9 (Batc  (None, 512)              2048      \n",
            " hNormalization)                                                 \n",
            "                                                                 \n",
            " dense_1 (Dense)             (None, 1024)              525312    \n",
            "                                                                 \n",
            " dense_2 (Dense)             (None, 325)               333125    \n",
            "                                                                 \n",
            "=================================================================\n",
            "Total params: 103,673,349\n",
            "Trainable params: 103,647,813\n",
            "Non-trainable params: 25,536\n",
            "_________________________________________________________________\n"
          ]
        }
      ]
    },
    {
      "cell_type": "code",
      "source": [
        "checkpoint_cb = keras.callbacks.ModelCheckpoint('keras_mycnn_model.h5')\n",
        "early_stopping_cb = keras.callbacks.EarlyStopping(patience = 6, restore_best_weights= True)\n",
        "model.compile(optimizer = 'nadam', loss=  'categorical_crossentropy', metrics = ['accuracy'])\n",
        "history = model.fit(train_datagenerator, batch_size = 32, epochs = 25, validation_data = val_datagenerator, shuffle = True)"
      ],
      "metadata": {
        "id": "dkqbGx4IZyXe",
        "colab": {
          "base_uri": "https://localhost:8080/"
        },
        "outputId": "5156d69e-b6be-49c2-b7c9-85e0aaabb76a"
      },
      "execution_count": null,
      "outputs": [
        {
          "output_type": "stream",
          "name": "stdout",
          "text": [
            "Epoch 1/25\n",
            "1480/1480 [==============================] - 833s 551ms/step - loss: 4.0231 - accuracy: 0.1928 - val_loss: 3.1513 - val_accuracy: 0.3114\n",
            "Epoch 2/25\n",
            "1480/1480 [==============================] - 809s 546ms/step - loss: 2.3658 - accuracy: 0.4545 - val_loss: 3.1582 - val_accuracy: 0.4486\n",
            "Epoch 3/25\n",
            "1480/1480 [==============================] - 802s 541ms/step - loss: 1.9625 - accuracy: 0.5498 - val_loss: 1.5964 - val_accuracy: 0.6012\n",
            "Epoch 4/25\n",
            "1480/1480 [==============================] - 803s 542ms/step - loss: 1.6131 - accuracy: 0.6166 - val_loss: 1.0891 - val_accuracy: 0.7157\n",
            "Epoch 5/25\n",
            "1480/1480 [==============================] - 801s 541ms/step - loss: 1.1134 - accuracy: 0.7126 - val_loss: 244.7005 - val_accuracy: 0.7354\n",
            "Epoch 6/25\n",
            "1480/1480 [==============================] - 806s 544ms/step - loss: 0.8596 - accuracy: 0.7722 - val_loss: 54.5083 - val_accuracy: 0.7680\n",
            "Epoch 7/25\n",
            "1480/1480 [==============================] - 810s 547ms/step - loss: 0.7124 - accuracy: 0.8040 - val_loss: 52.9173 - val_accuracy: 0.8142\n",
            "Epoch 8/25\n",
            "1480/1480 [==============================] - 811s 547ms/step - loss: 0.5576 - accuracy: 0.8447 - val_loss: 422.2783 - val_accuracy: 0.8228\n",
            "Epoch 9/25\n",
            "1480/1480 [==============================] - 817s 552ms/step - loss: 0.4633 - accuracy: 0.8670 - val_loss: 1.3241 - val_accuracy: 0.8443\n",
            "Epoch 10/25\n",
            "1480/1480 [==============================] - 819s 553ms/step - loss: 0.3853 - accuracy: 0.8876 - val_loss: 0.9244 - val_accuracy: 0.8505\n",
            "Epoch 11/25\n",
            "1480/1480 [==============================] - 821s 555ms/step - loss: 0.3138 - accuracy: 0.9081 - val_loss: 1.6980 - val_accuracy: 0.8086\n",
            "Epoch 12/25\n",
            "1480/1480 [==============================] - 817s 552ms/step - loss: 0.2765 - accuracy: 0.9180 - val_loss: 2.0854 - val_accuracy: 0.8369\n",
            "Epoch 13/25\n",
            "1480/1480 [==============================] - 817s 552ms/step - loss: 0.2380 - accuracy: 0.9300 - val_loss: 0.7182 - val_accuracy: 0.8695\n",
            "Epoch 14/25\n",
            "1480/1480 [==============================] - 819s 553ms/step - loss: 0.2177 - accuracy: 0.9347 - val_loss: 1.9039 - val_accuracy: 0.8634\n",
            "Epoch 15/25\n",
            "1480/1480 [==============================] - 812s 549ms/step - loss: 0.2086 - accuracy: 0.9374 - val_loss: 1.1542 - val_accuracy: 0.8806\n",
            "Epoch 16/25\n",
            "1480/1480 [==============================] - 811s 548ms/step - loss: 0.1670 - accuracy: 0.9498 - val_loss: 0.9483 - val_accuracy: 0.8658\n",
            "Epoch 17/25\n",
            " 454/1480 [========>.....................] - ETA: 9:18 - loss: 0.1523 - accuracy: 0.9538"
          ]
        }
      ]
    },
    {
      "cell_type": "code",
      "source": [
        ""
      ],
      "metadata": {
        "id": "d65cfA-qxUKL"
      },
      "execution_count": null,
      "outputs": []
    }
  ]
}